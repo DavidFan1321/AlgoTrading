{
 "cells": [
  {
   "cell_type": "code",
   "execution_count": 45,
   "id": "27b5c13e",
   "metadata": {},
   "outputs": [
    {
     "name": "stdout",
     "output_type": "stream",
     "text": [
      "Success!\n"
     ]
    }
   ],
   "source": [
    "import PyPDF2\n",
    "\n",
    "all_lines = []\n",
    "\n",
    "# Open the PDF file in read-binary mode\n",
    "with open('./data/tickers/ru3000.pdf', 'rb') as file:\n",
    "    # Create a PDF object\n",
    "    pdf = PyPDF2.PdfReader(file)\n",
    "\n",
    "    # Iterate over every page\n",
    "    for page in pdf.pages[:-1]:\n",
    "        # Extract the text from the page\n",
    "        text = page.extract_text()\n",
    "        tokens = text.split('\\n')\n",
    "        \n",
    "        lines = []\n",
    "        for i in range(len(tokens)//2):\n",
    "            line = tokens[2*i] + ',' + (tokens[2*i+1])\n",
    "            if not line == 'Company,Ticker':\n",
    "                lines.append(line)\n",
    "        \n",
    "        # remove everything that is not a stock ticker\n",
    "        lines = lines[:(len(lines)-3)]\n",
    "        all_lines += lines\n",
    "\n",
    "with open ('./data/tickers/ru3000.csv', 'w+', newline ='') as f:\n",
    "    for line in all_lines:\n",
    "        f.write(line)\n",
    "        f.write('\\n')\n",
    "\n",
    "print(\"Success!\")"
   ]
  }
 ],
 "metadata": {
  "kernelspec": {
   "display_name": "Python 3 (ipykernel)",
   "language": "python",
   "name": "python3"
  },
  "language_info": {
   "codemirror_mode": {
    "name": "ipython",
    "version": 3
   },
   "file_extension": ".py",
   "mimetype": "text/x-python",
   "name": "python",
   "nbconvert_exporter": "python",
   "pygments_lexer": "ipython3",
   "version": "3.9.7"
  }
 },
 "nbformat": 4,
 "nbformat_minor": 5
}
